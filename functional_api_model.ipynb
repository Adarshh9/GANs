{
  "nbformat": 4,
  "nbformat_minor": 0,
  "metadata": {
    "colab": {
      "private_outputs": true,
      "provenance": [],
      "gpuType": "T4"
    },
    "kernelspec": {
      "name": "python3",
      "display_name": "Python 3"
    },
    "language_info": {
      "name": "python"
    },
    "accelerator": "GPU"
  },
  "cells": [
    {
      "cell_type": "code",
      "source": [
        "!pip install kaggle\n"
      ],
      "metadata": {
        "id": "wC7St5pPlVWo"
      },
      "execution_count": null,
      "outputs": []
    },
    {
      "cell_type": "code",
      "source": [
        "from google.colab import files\n",
        "\n",
        "uploaded = files.upload()\n",
        "\n",
        "for fn in uploaded.keys():\n",
        " print('User uploaded file \"{name}\" with length {length} bytes'.format(\n",
        "      name=fn, length=len(uploaded[fn])))\n"
      ],
      "metadata": {
        "id": "wJ62mAd6lbzL"
      },
      "execution_count": null,
      "outputs": []
    },
    {
      "cell_type": "code",
      "source": [
        "!mkdir -p ~/.kaggle\n",
        "!cp kaggle.json ~/.kaggle/\n",
        "!chmod 600 ~/.kaggle/kaggle.json\n"
      ],
      "metadata": {
        "id": "R84KNPvGlik9"
      },
      "execution_count": null,
      "outputs": []
    },
    {
      "cell_type": "code",
      "source": [
        "!kaggle datasets download -d jangedoo/utkface-new"
      ],
      "metadata": {
        "id": "OH5xNBYimSO7"
      },
      "execution_count": null,
      "outputs": []
    },
    {
      "cell_type": "code",
      "source": [
        "!unzip utkface-new.zip"
      ],
      "metadata": {
        "id": "ozykfK-fmj_P"
      },
      "execution_count": null,
      "outputs": []
    },
    {
      "cell_type": "code",
      "source": [
        "import os\n",
        "import numpy as np\n",
        "import pandas as pd\n",
        "from keras.preprocessing.image import ImageDataGenerator"
      ],
      "metadata": {
        "id": "AXhJ3QbAmzga"
      },
      "execution_count": null,
      "outputs": []
    },
    {
      "cell_type": "code",
      "source": [
        "folder_path = '/content/utkface_aligned_cropped/UTKFace'"
      ],
      "metadata": {
        "id": "vAJMe6qnMv70"
      },
      "execution_count": null,
      "outputs": []
    },
    {
      "cell_type": "code",
      "source": [
        "age = []\n",
        "gender = []\n",
        "img_path = []\n",
        "for file in os.listdir(folder_path):\n",
        "    age.append(int(file.split('_')[0]))\n",
        "    gender.append(int(file.split('_')[1]))\n",
        "    img_path.append(file)"
      ],
      "metadata": {
        "id": "17Hm6YqiM1oZ"
      },
      "execution_count": null,
      "outputs": []
    },
    {
      "cell_type": "code",
      "source": [
        "len(age)"
      ],
      "metadata": {
        "id": "edHApQFLNCh6"
      },
      "execution_count": null,
      "outputs": []
    },
    {
      "cell_type": "code",
      "source": [
        "df = pd.DataFrame({'age':age ,'gender':gender ,'img_path':img_path})"
      ],
      "metadata": {
        "id": "TYz30dqONYqO"
      },
      "execution_count": null,
      "outputs": []
    },
    {
      "cell_type": "code",
      "source": [
        "df.head()"
      ],
      "metadata": {
        "id": "i6Py1LC8NhjJ"
      },
      "execution_count": null,
      "outputs": []
    },
    {
      "cell_type": "code",
      "source": [
        "train_df = df.sample(frac=1 ,random_state=0).iloc[:20000]\n",
        "test_df = df.sample(frac=1 ,random_state=0).iloc[20000:]"
      ],
      "metadata": {
        "id": "3JWH1SP8NmLn"
      },
      "execution_count": null,
      "outputs": []
    },
    {
      "cell_type": "code",
      "source": [
        "len(train_df) ,len(test_df)"
      ],
      "metadata": {
        "id": "oR14ZkyFN44s"
      },
      "execution_count": null,
      "outputs": []
    },
    {
      "cell_type": "code",
      "source": [
        "train_datagen = ImageDataGenerator(rescale=1./255 ,\n",
        "                                   rotation_range=30 ,\n",
        "                                   width_shift_range=0.2 ,\n",
        "                                   height_shift_range=0.2 ,\n",
        "                                   shear_range=0.2 ,\n",
        "                                   zoom_range=0.2 ,\n",
        "                                   horizontal_flip=True)\n",
        "test_datagen = ImageDataGenerator(rescale=1./255)"
      ],
      "metadata": {
        "id": "BAb7ZH6ZOA9o"
      },
      "execution_count": null,
      "outputs": []
    },
    {
      "cell_type": "code",
      "source": [
        "train_generator = train_datagen.flow_from_dataframe(train_df ,\n",
        "                                                    directory=folder_path ,\n",
        "                                                    x_col='img_path' ,\n",
        "                                                    y_col=['age','gender'] ,\n",
        "                                                    target_size=(200,200) ,\n",
        "                                                    class_mode='multi_output')\n",
        "test_generator = test_datagen.flow_from_dataframe(test_df ,\n",
        "                                                    directory=folder_path ,\n",
        "                                                    x_col='img_path' ,\n",
        "                                                    y_col=['age','gender'] ,\n",
        "                                                    target_size=(200,200) ,\n",
        "                                                    class_mode='multi_output')"
      ],
      "metadata": {
        "id": "28kphfk8Ollf"
      },
      "execution_count": null,
      "outputs": []
    },
    {
      "cell_type": "code",
      "source": [
        "from keras.applications.vgg16 import VGG16\n",
        "from keras.layers import *\n",
        "from keras.models import Model"
      ],
      "metadata": {
        "id": "KnxhZ6GnPbyB"
      },
      "execution_count": null,
      "outputs": []
    },
    {
      "cell_type": "code",
      "source": [
        "vggnet = VGG16(include_top=False ,input_shape=(200,200,3))"
      ],
      "metadata": {
        "id": "28ck5OtnSR7O"
      },
      "execution_count": null,
      "outputs": []
    },
    {
      "cell_type": "code",
      "source": [
        "vggnet.trainable = False\n",
        "\n",
        "output = vggnet.layers[-1].output\n",
        "\n",
        "flatten = Flatten()(output)\n",
        "\n",
        "dense1 = Dense(512 ,activation='relu')(flatten)\n",
        "dense2 = Dense(512 ,activation='relu')(flatten)\n",
        "\n",
        "dense3 = Dense(512 ,activation='relu')(dense1)\n",
        "dense4 = Dense(512 ,activation='relu')(dense2)\n",
        "\n",
        "output1 = Dense(1 ,activation='linear' ,name='age')(dense3)\n",
        "output2 = Dense(1 ,activation='sigmoid' ,name='gender')(dense4)"
      ],
      "metadata": {
        "id": "Kst-iywWSgE8"
      },
      "execution_count": null,
      "outputs": []
    },
    {
      "cell_type": "code",
      "source": [
        "model = Model(inputs=vggnet.input ,outputs=[output1 ,output2])"
      ],
      "metadata": {
        "id": "fETjL7-4Tq60"
      },
      "execution_count": null,
      "outputs": []
    },
    {
      "cell_type": "code",
      "source": [
        "model.summary()"
      ],
      "metadata": {
        "id": "cUTSuGHdTz-e"
      },
      "execution_count": null,
      "outputs": []
    },
    {
      "cell_type": "code",
      "source": [
        "from keras.utils import plot_model\n",
        "plot_model(model)"
      ],
      "metadata": {
        "id": "AYj7xNgBT2md"
      },
      "execution_count": null,
      "outputs": []
    },
    {
      "cell_type": "code",
      "source": [
        "model.compile(optimizer='adam' ,loss={'age':'mae' ,'gender':'binary_crossentropy'} ,metrics={'age':'mae' ,'gender':'accuracy'} ,loss_weights={'age':1 ,\"gender\":99} )"
      ],
      "metadata": {
        "id": "J2Ci0a-rUAgY"
      },
      "execution_count": null,
      "outputs": []
    },
    {
      "cell_type": "code",
      "source": [
        "model.fit(train_generator ,batch_size=32 ,epochs=10 ,validation_data=test_generator)"
      ],
      "metadata": {
        "id": "VSeY1asyUz7V"
      },
      "execution_count": null,
      "outputs": []
    },
    {
      "cell_type": "code",
      "source": [
        "import pickle\n",
        "with open('model.pickle','wb') as file:\n",
        "  pickle.dump(model ,file)"
      ],
      "metadata": {
        "id": "tqYw5BJlVB-b"
      },
      "execution_count": null,
      "outputs": []
    },
    {
      "cell_type": "code",
      "source": [
        "prediction = model.predict(test_generator)\n",
        "\n",
        "age_predictions = prediction[0]\n",
        "gender_predictions = prediction[1]\n"
      ],
      "metadata": {
        "id": "4MIq87Xlc-tn"
      },
      "execution_count": null,
      "outputs": []
    },
    {
      "cell_type": "code",
      "source": [
        "gender_predictions[:5]"
      ],
      "metadata": {
        "id": "cyrR9Iq-jsxg"
      },
      "execution_count": null,
      "outputs": []
    },
    {
      "cell_type": "code",
      "source": [
        "age_predictions[:5]"
      ],
      "metadata": {
        "id": "bwNstcsWiS4p"
      },
      "execution_count": null,
      "outputs": []
    },
    {
      "cell_type": "code",
      "source": [
        "test_generator.image_shape"
      ],
      "metadata": {
        "id": "vjPmMqg-iSwY"
      },
      "execution_count": null,
      "outputs": []
    },
    {
      "cell_type": "code",
      "source": [
        "from PIL import Image\n",
        "\n",
        "image_path = '/content/utkface_aligned_cropped/UTKFace/10_0_0_20170110220235233.jpg.chip.jpg'\n",
        "image = Image.open(image_path)\n",
        "\n",
        "image = image.resize((200, 200))\n",
        "image = np.array(image) / 255.0\n",
        "image = np.expand_dims(image, axis=0)\n",
        "\n",
        "predictions = model.predict(image)\n",
        "\n",
        "age_prediction = predictions[0][0]\n",
        "gender_prediction = predictions[1][0]\n",
        "\n",
        "# if gender_prediction < 5:\n",
        "#   gender = 'male'\n",
        "# else:\n",
        "#   gender = 'female'\n",
        "\n",
        "print(f\"Predicted Age: {age_prediction}\")\n",
        "print(f\"Predicted Gender: {gender_prediction} \")"
      ],
      "metadata": {
        "id": "CmF2WLk7jT1U"
      },
      "execution_count": null,
      "outputs": []
    },
    {
      "cell_type": "code",
      "source": [],
      "metadata": {
        "id": "72Cx5s8akTxG"
      },
      "execution_count": null,
      "outputs": []
    }
  ]
}