{
  "nbformat": 4,
  "nbformat_minor": 0,
  "metadata": {
    "colab": {
      "private_outputs": true,
      "provenance": [],
      "gpuType": "T4"
    },
    "kernelspec": {
      "name": "python3",
      "display_name": "Python 3"
    },
    "language_info": {
      "name": "python"
    },
    "accelerator": "GPU"
  },
  "cells": [
    {
      "cell_type": "code",
      "execution_count": null,
      "metadata": {
        "id": "7RO8Ma8zR9z4"
      },
      "outputs": [],
      "source": [
        "from numpy import zeros\n",
        "from numpy import ones\n",
        "from numpy.random import randint\n",
        "from numpy.random import randn\n",
        "\n",
        "from keras.datasets.cifar10 import load_data\n",
        "from keras.layers import Input ,Dense ,Reshape ,Flatten\n",
        "from keras.layers import BatchNormalization\n",
        "from keras.layers import LeakyReLU\n",
        "from keras.layers import Conv2D ,Conv2DTranspose ,Dropout ,Embedding ,Concatenate\n",
        "\n",
        "from keras.models import Sequential ,Model\n",
        "from keras.optimizers import Adam\n",
        "import matplotlib.pyplot as plt"
      ]
    },
    {
      "cell_type": "code",
      "source": [
        "(trainx ,trainy) ,(testx ,testy) = load_data()"
      ],
      "metadata": {
        "id": "AQu0JrXfSBY8"
      },
      "execution_count": null,
      "outputs": []
    },
    {
      "cell_type": "code",
      "source": [
        "for i in range(25):\n",
        "  plt.subplot(5 ,5 ,i+1)\n",
        "  plt.axis('off')\n",
        "  plt.imshow(trainx[i])\n",
        "plt.show()"
      ],
      "metadata": {
        "id": "vSPZXWGNSBV5"
      },
      "execution_count": null,
      "outputs": []
    },
    {
      "cell_type": "code",
      "source": [
        "def define_discriminator(in_shape=(32,32,3) ,n_classes=10):\n",
        "    in_label = Input(shape=(1,))\n",
        "\n",
        "    li = Embedding(n_classes ,50)(in_label)\n",
        "    n_nodes = in_shape[0] * in_shape[1]\n",
        "\n",
        "    li = Dense(n_nodes)(li)\n",
        "\n",
        "    li = Reshape((in_shape[0] ,in_shape[1] ,1))(li)\n",
        "\n",
        "    in_image = Input(shape=in_shape)\n",
        "    merge = Concatenate()([in_image ,li])\n",
        "\n",
        "    fe = Conv2D(128 ,(3,3) ,strides=(2,2) ,padding='same')(merge)\n",
        "    fe = LeakyReLU(alpha=0.2)(fe)\n",
        "\n",
        "    fe = Conv2D(128 ,(3,3) ,strides=(2,2) ,padding='same')(fe)\n",
        "    fe = LeakyReLU(alpha=0.2)(fe)\n",
        "\n",
        "    fe = Flatten()(fe)\n",
        "\n",
        "    fe = Dropout(0.4)(fe)\n",
        "\n",
        "    output_layer = Dense(1,activation='sigmoid')(fe)\n",
        "\n",
        "    model = Model([in_label,in_image] ,output_layer)\n",
        "    opt = Adam(learning_rate=0.0002 ,beta_1=0.5)\n",
        "    model.compile(loss='binary_crossentropy' ,optimizer=opt ,metrics=['accuracy'])\n",
        "\n",
        "    return model"
      ],
      "metadata": {
        "id": "6kFdb3DoSBQ2"
      },
      "execution_count": null,
      "outputs": []
    },
    {
      "cell_type": "code",
      "source": [
        "# define the standalone discriminator model\n",
        "#Given an input image, the Discriminator outputs the likelihood of the image being real.\n",
        "#Binary classification - true or false (1 or 0). So using sigmoid activation.\n",
        "\n",
        "#Unlike regular GAN here we are also providing number of classes as input.\n",
        "#Input to the model will be both images and labels.\n",
        "def define_discriminator(in_shape=(32,32,3), n_classes=10):\n",
        "\n",
        "    # label input\n",
        "\tin_label = Input(shape=(1,))  #Shape 1\n",
        "\t# embedding for categorical input\n",
        "    #each label (total 10 classes for cifar), will be represented by a vector of size 50.\n",
        "    #This vector of size 50 will be learnt by the discriminator\n",
        "\tli = Embedding(n_classes, 50)(in_label) #Shape 1,50\n",
        "\t# scale up to image dimensions with linear activation\n",
        "\tn_nodes = in_shape[0] * in_shape[1]  #32x32 = 1024.\n",
        "\tli = Dense(n_nodes)(li)  #Shape = 1, 1024\n",
        "\t# reshape to additional channel\n",
        "\tli = Reshape((in_shape[0], in_shape[1], 1))(li)  #32x32x1\n",
        "\n",
        "\n",
        "\t# image input\n",
        "\tin_image = Input(shape=in_shape) #32x32x3\n",
        "\t# concat label as a channel\n",
        "\tmerge = Concatenate()([in_image, li]) #32x32x4 (4 channels, 3 for image and the other for labels)\n",
        "\n",
        "\t# downsample: This part is same as unconditional GAN upto the output layer.\n",
        "    #We will combine input label with input image and supply as inputs to the model.\n",
        "\tfe = Conv2D(128, (3,3), strides=(2,2), padding='same')(merge) #16x16x128\n",
        "\tfe = LeakyReLU(alpha=0.2)(fe)\n",
        "\t# downsample\n",
        "\tfe = Conv2D(128, (3,3), strides=(2,2), padding='same')(fe) #8x8x128\n",
        "\tfe = LeakyReLU(alpha=0.2)(fe)\n",
        "\t# flatten feature maps\n",
        "\tfe = Flatten()(fe)  #8192  (8*8*128=8192)\n",
        "\t# dropout\n",
        "\tfe = Dropout(0.4)(fe)\n",
        "\t# output\n",
        "\tout_layer = Dense(1, activation='sigmoid')(fe)  #Shape=1\n",
        "\n",
        "\t# define model\n",
        "    ##Combine input label with input image and supply as inputs to the model.\n",
        "\tmodel = Model([in_image, in_label], out_layer)\n",
        "\t# compile model\n",
        "\topt = Adam(lr=0.0002, beta_1=0.5)\n",
        "\tmodel.compile(loss='binary_crossentropy', optimizer=opt, metrics=['accuracy'])\n",
        "\treturn model"
      ],
      "metadata": {
        "id": "Ivx7g3Z0s-jr"
      },
      "execution_count": null,
      "outputs": []
    },
    {
      "cell_type": "code",
      "source": [
        "test_discr = define_discriminator()\n",
        "print(test_discr.summary())"
      ],
      "metadata": {
        "id": "z90J20KTSBLM"
      },
      "execution_count": null,
      "outputs": []
    },
    {
      "cell_type": "code",
      "source": [
        "from keras.utils import plot_model\n",
        "plot_model(test_discr)"
      ],
      "metadata": {
        "id": "8OEUBgOISBFK"
      },
      "execution_count": null,
      "outputs": []
    },
    {
      "cell_type": "code",
      "source": [
        "def define_generator(latent_dim ,n_classes=10):\n",
        "\n",
        "    in_label = Input(shape=(1,))\n",
        "    li = Embedding(n_classes ,50)(in_label)\n",
        "\n",
        "    n_nodes = 8 * 8\n",
        "    li = Dense(n_nodes)(li)\n",
        "    li = Reshape((8,8,1))(li)\n",
        "\n",
        "    in_lat = Input(shape=(latent_dim,))\n",
        "\n",
        "    n_nodes = 128 *8 *8\n",
        "\n",
        "    gen = Dense(n_nodes)(in_lat)\n",
        "    gen = LeakyReLU(alpha=0.2)(gen)\n",
        "    gen = Reshape((8,8,128))(gen)\n",
        "\n",
        "    merge = Concatenate()([gen ,li])\n",
        "\n",
        "    gen = Conv2DTranspose(128 ,(4,4) ,strides=(2,2) ,padding='same')(merge)\n",
        "    gen = LeakyReLU(alpha=0.2)(gen)\n",
        "\n",
        "    gen = Conv2DTranspose(128 ,(4,4) ,strides=(2,2) ,padding='same')(gen)\n",
        "    gen = LeakyReLU(alpha=0.2)(gen)\n",
        "\n",
        "    out_layer = Conv2D(3 ,(8,8) ,activation='tanh' ,padding='same')(gen)\n",
        "\n",
        "    model = Model([in_lat ,gen] ,out_layer)\n",
        "\n",
        "    return model"
      ],
      "metadata": {
        "id": "IvnP3gPlSBB9"
      },
      "execution_count": null,
      "outputs": []
    },
    {
      "cell_type": "code",
      "source": [
        "\n",
        "def define_generator(latent_dim, n_classes=10):\n",
        "\n",
        "\t# label input\n",
        "\tin_label = Input(shape=(1,))  #Input of dimension 1\n",
        "\t# embedding for categorical input\n",
        "    #each label (total 10 classes for cifar), will be represented by a vector of size 50.\n",
        "\tli = Embedding(n_classes, 50)(in_label) #Shape 1,50\n",
        "\n",
        "\t# linear multiplication\n",
        "\tn_nodes = 8 * 8  # To match the dimensions for concatenation later in this step.\n",
        "\tli = Dense(n_nodes)(li) #1,64\n",
        "\t# reshape to additional channel\n",
        "\tli = Reshape((8, 8, 1))(li)\n",
        "\n",
        "\n",
        "\t# image generator input\n",
        "\tin_lat = Input(shape=(latent_dim,))  #Input of dimension 100\n",
        "\n",
        "\t# foundation for 8x8 image\n",
        "    # We will reshape input latent vector into 8x8 image as a starting point.\n",
        "    #So n_nodes for the Dense layer can be 128x8x8 so when we reshape the output\n",
        "    #it would be 8x8x128 and that can be slowly upscaled to 32x32 image for output.\n",
        "    #Note that this part is same as unconditional GAN until the output layer.\n",
        "    #While defining model inputs we will combine input label and the latent input.\n",
        "\tn_nodes = 128 * 8 * 8\n",
        "\tgen = Dense(n_nodes)(in_lat)  #shape=8192\n",
        "\tgen = LeakyReLU(alpha=0.2)(gen)\n",
        "\tgen = Reshape((8, 8, 128))(gen) #Shape=8x8x128\n",
        "\t# merge image gen and label input\n",
        "\tmerge = Concatenate()([gen, li])  #Shape=8x8x129 (Extra channel corresponds to the label)\n",
        "\t# upsample to 16x16\n",
        "\tgen = Conv2DTranspose(128, (4,4), strides=(2,2), padding='same')(merge) #16x16x128\n",
        "\tgen = LeakyReLU(alpha=0.2)(gen)\n",
        "\t# upsample to 32x32\n",
        "\tgen = Conv2DTranspose(128, (4,4), strides=(2,2), padding='same')(gen) #32x32x128\n",
        "\tgen = LeakyReLU(alpha=0.2)(gen)\n",
        "\t# output\n",
        "\tout_layer = Conv2D(3, (8,8), activation='tanh', padding='same')(gen) #32x32x3\n",
        "\t# define model\n",
        "\tmodel = Model([in_lat, in_label], out_layer)\n",
        "\treturn model   #Model not compiled as it is not directly trained like the discriminator.\n"
      ],
      "metadata": {
        "id": "XtQqF0rzl-Af"
      },
      "execution_count": null,
      "outputs": []
    },
    {
      "cell_type": "code",
      "source": [
        "test_gen = define_generator(100, n_classes=10)\n",
        "print(test_gen.summary())"
      ],
      "metadata": {
        "id": "lB3a6nFJSA-q"
      },
      "execution_count": null,
      "outputs": []
    },
    {
      "cell_type": "code",
      "source": [
        "plot_model(test_gen)"
      ],
      "metadata": {
        "id": "I5rAL6OjlWYr"
      },
      "execution_count": null,
      "outputs": []
    },
    {
      "cell_type": "code",
      "source": [
        "def define_gan(g_model ,d_model):\n",
        "\n",
        "    d_model.trainable = False\n",
        "\n",
        "    gen_noise ,gen_label = g_model.input\n",
        "    gen_output = g_model.output\n",
        "\n",
        "    gan_output = d_model([gen_output ,gen_label])\n",
        "\n",
        "    model = Model([gen_noise ,gen_label] ,gan_output)\n",
        "\n",
        "    opt = Adam(lr=0.0002 ,beta_1=0.5)\n",
        "\n",
        "    model.compile(optimizer=opt ,loss='binary_crossentropy')\n",
        "\n",
        "    return model"
      ],
      "metadata": {
        "id": "8iW-qyrYmGsS"
      },
      "execution_count": null,
      "outputs": []
    },
    {
      "cell_type": "code",
      "source": [
        "def define_gan(g_model, d_model):\n",
        "\td_model.trainable = False  #Discriminator is trained separately. So set to not trainable.\n",
        "\n",
        "    ## connect generator and discriminator...\n",
        "\t# first, get noise and label inputs from generator model\n",
        "\tgen_noise, gen_label = g_model.input  #Latent vector size and label size\n",
        "\t# get image output from the generator model\n",
        "\tgen_output = g_model.output  #32x32x3\n",
        "\n",
        "\t# generator image output and corresponding input label are inputs to discriminator\n",
        "\tgan_output = d_model([gen_output, gen_label])\n",
        "\t# define gan model as taking noise and label and outputting a classification\n",
        "\tmodel = Model([gen_noise, gen_label], gan_output)\n",
        "\t# compile model\n",
        "\topt = Adam(lr=0.0002, beta_1=0.5)\n",
        "\tmodel.compile(loss='binary_crossentropy', optimizer=opt)\n",
        "\treturn model"
      ],
      "metadata": {
        "id": "56AFju5RshkC"
      },
      "execution_count": null,
      "outputs": []
    },
    {
      "cell_type": "code",
      "source": [
        "def load_real_samples():\n",
        "\n",
        "    (trainx ,trainy) , (_,_) = load_data()\n",
        "\n",
        "    X = trainx.astype('float32')\n",
        "\n",
        "    X = (X - 127.5) / 127.5\n",
        "\n",
        "    return [X ,trainy]"
      ],
      "metadata": {
        "id": "m22x7_Xyojmr"
      },
      "execution_count": null,
      "outputs": []
    },
    {
      "cell_type": "code",
      "source": [
        "def generate_real_samples(dataset, n_samples):\n",
        "\t# split into images and labels\n",
        "\timages, labels = dataset\n",
        "\t# choose random instances\n",
        "\tix = randint(0, images.shape[0], n_samples)\n",
        "\t# select images and labels\n",
        "\tX, labels = images[ix], labels[ix]\n",
        "\t# generate class labels and assign to y (don't confuse this with the above labels that correspond to cifar labels)\n",
        "\ty = ones((n_samples, 1))  #Label=1 indicating they are real\n",
        "\treturn [X, labels], y"
      ],
      "metadata": {
        "id": "xYOFvp_PoseB"
      },
      "execution_count": null,
      "outputs": []
    },
    {
      "cell_type": "code",
      "source": [
        "def generate_latent_points(latent_dim, n_samples, n_classes=10):\n",
        "\t# generate points in the latent space\n",
        "\tx_input = randn(latent_dim * n_samples)\n",
        "\t# reshape into a batch of inputs for the network\n",
        "\tz_input = x_input.reshape(n_samples, latent_dim)\n",
        "\t# generate labels\n",
        "\tlabels = randint(0, n_classes, n_samples)\n",
        "\treturn [z_input, labels]"
      ],
      "metadata": {
        "id": "-UpaZfSzppPl"
      },
      "execution_count": null,
      "outputs": []
    },
    {
      "cell_type": "code",
      "source": [
        "def generate_fake_samples(generator, latent_dim, n_samples):\n",
        "\t# generate points in latent space\n",
        "\tz_input, labels_input = generate_latent_points(latent_dim, n_samples)\n",
        "\t# predict outputs\n",
        "\timages = generator.predict([z_input, labels_input])\n",
        "\t# create class labels\n",
        "\ty = zeros((n_samples, 1))  #Label=0 indicating they are fake\n",
        "\treturn [images, labels_input], y\n"
      ],
      "metadata": {
        "id": "eaTcAeU_quNf"
      },
      "execution_count": null,
      "outputs": []
    },
    {
      "cell_type": "code",
      "source": [
        "# train the generator and discriminator\n",
        "#We loop through a number of epochs to train our Discriminator by first selecting\n",
        "#a random batch of images from our true/real dataset.\n",
        "#Then, generating a set of images using the generator.\n",
        "#Feed both set of images into the Discriminator.\n",
        "#Finally, set the loss parameters for both the real and fake images, as well as the combined loss.\n",
        "def train(g_model, d_model, gan_model, dataset, latent_dim, n_epochs=100, n_batch=128):\n",
        "\tbat_per_epo = int(dataset[0].shape[0] / n_batch)\n",
        "\thalf_batch = int(n_batch / 2)  #the discriminator model is updated for a half batch of real samples\n",
        "                            #and a half batch of fake samples, combined a single batch.\n",
        "\t# manually enumerate epochs\n",
        "\tfor i in range(n_epochs):\n",
        "\t\t# enumerate batches over the training set\n",
        "\t\tfor j in range(bat_per_epo):\n",
        "\n",
        "             # Train the discriminator on real and fake images, separately (half batch each)\n",
        "        #Research showed that separate training is more effective.\n",
        "\t\t\t# get randomly selected 'real' samples\n",
        "            # get randomly selected 'real' samples\n",
        "\t\t\t[X_real, labels_real], y_real = generate_real_samples(dataset, half_batch)\n",
        "\n",
        "            # update discriminator model weights\n",
        "            ##train_on_batch allows you to update weights based on a collection\n",
        "            #of samples you provide\n",
        "\t\t\td_loss_real, _ = d_model.train_on_batch([X_real, labels_real], y_real)\n",
        "\n",
        "\t\t\t# generate 'fake' examples\n",
        "\t\t\t[X_fake, labels], y_fake = generate_fake_samples(g_model, latent_dim, half_batch)\n",
        "\t\t\t# update discriminator model weights\n",
        "\t\t\td_loss_fake, _ = d_model.train_on_batch([X_fake, labels], y_fake)\n",
        "\n",
        "            #d_loss = 0.5 * np.add(d_loss_real, d_loss_fake) #Average loss if you want to report single..\n",
        "\n",
        "\t\t\t# prepare points in latent space as input for the generator\n",
        "\t\t\t[z_input, labels_input] = generate_latent_points(latent_dim, n_batch)\n",
        "\n",
        "            # The generator wants the discriminator to label the generated samples\n",
        "        # as valid (ones)\n",
        "        #This is where the generator is trying to trick discriminator into believing\n",
        "        #the generated image is true (hence value of 1 for y)\n",
        "\t\t\t# create inverted labels for the fake samples\n",
        "\t\t\ty_gan = ones((n_batch, 1))\n",
        "             # Generator is part of combined model where it got directly linked with the discriminator\n",
        "        # Train the generator with latent_dim as x and 1 as y.\n",
        "        # Again, 1 as the output as it is adversarial and if generator did a great\n",
        "        #job of folling the discriminator then the output would be 1 (true)\n",
        "\t\t\t# update the generator via the discriminator's error\n",
        "\t\t\tg_loss = gan_model.train_on_batch([z_input, labels_input], y_gan)\n",
        "\t\t\t# Print losses on this batch\n",
        "\t\t\tprint('Epoch>%d, Batch%d/%d, d1=%.3f, d2=%.3f g=%.3f' %\n",
        "\t\t\t\t(i+1, j+1, bat_per_epo, d_loss_real, d_loss_fake, g_loss))\n",
        "\t# save the generator model\n",
        "\tg_model.save('cifar_conditional_generator_25epochs.h5')"
      ],
      "metadata": {
        "id": "SuuUHI38qxHk"
      },
      "execution_count": null,
      "outputs": []
    },
    {
      "cell_type": "code",
      "source": [
        "\n",
        "#Train the GAN\n",
        "\n",
        "# size of the latent space\n",
        "latent_dim = 100\n",
        "# create the discriminator\n",
        "d_model = define_discriminator()\n",
        "# create the generator\n",
        "g_model = define_generator(latent_dim)\n",
        "# create the gan\n",
        "gan_model = define_gan(g_model, d_model)\n",
        "# load image data\n",
        "dataset = load_real_samples()\n",
        "# train model\n",
        "train(g_model, d_model, gan_model, dataset, latent_dim, n_epochs=2)"
      ],
      "metadata": {
        "id": "ZynpMO9dsJAl"
      },
      "execution_count": null,
      "outputs": []
    },
    {
      "cell_type": "code",
      "source": [
        "# load model\n",
        "model = load_model('cifar_conditional_generator_250epochs.h5')\n",
        "\n",
        "# generate multiple images\n",
        "\n",
        "latent_points, labels = generate_latent_points(100, 100)\n",
        "# specify labels - generate 10 sets of labels each gping from 0 to 9\n",
        "labels = asarray([x for _ in range(10) for x in range(10)])\n",
        "# generate images\n",
        "X  = model.predict([latent_points, labels])\n",
        "# scale from [-1,1] to [0,1]\n",
        "X = (X + 1) / 2.0\n",
        "X = (X*255).astype(np.uint8)\n",
        "# plot the result (10 sets of images, all images in a column should be of same class in the plot)\n",
        "# Plot generated images\n",
        "def show_plot(examples, n):\n",
        "\tfor i in range(n * n):\n",
        "\t\tplt.subplot(n, n, 1 + i)\n",
        "\t\tplt.axis('off')\n",
        "\t\tplt.imshow(examples[i, :, :, :])\n",
        "\tplt.show()\n",
        "\n",
        "show_plot(X, 10)"
      ],
      "metadata": {
        "id": "8acFggK8sWEE"
      },
      "execution_count": null,
      "outputs": []
    }
  ]
}